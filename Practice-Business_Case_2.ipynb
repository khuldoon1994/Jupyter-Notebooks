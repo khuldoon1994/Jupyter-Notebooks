{
 "cells": [
  {
   "cell_type": "markdown",
   "id": "every-blues",
   "metadata": {},
   "source": [
    "## Import the libraries"
   ]
  },
  {
   "cell_type": "code",
   "execution_count": 1,
   "id": "elect-comfort",
   "metadata": {},
   "outputs": [],
   "source": [
    "import numpy as np\n",
    "import tensorflow as tf"
   ]
  },
  {
   "cell_type": "markdown",
   "id": "positive-there",
   "metadata": {},
   "source": [
    "## Load the data"
   ]
  },
  {
   "cell_type": "code",
   "execution_count": 2,
   "id": "classical-running",
   "metadata": {},
   "outputs": [],
   "source": [
    "npz = np.load('Audiobooks_data_train.npz') # Loading training data\n",
    "train_inputs = npz['inputs'].astype(np.float) # Storing training inputs as floating points\n",
    "train_targets = npz['targets'].astype(np.int) # Storing training targets as integers\n",
    "\n",
    "npz = np.load('Audiobooks_data_validation.npz') # Loading validation data\n",
    "validation_inputs = npz['inputs'].astype(np.float) # Storing validation inputs as floating points\n",
    "validation_targets = npz['targets'].astype(np.int) # Storing validation targets as floating points\n",
    "\n",
    "npz = np.load('Audiobooks_data_test.npz') # Loading test data\n",
    "test_inputs = npz['inputs'].astype(np.float) # Storing test inputs as floating points\n",
    "test_targets = npz['targets'].astype(np.int) # Storing test targets as floating points\n"
   ]
  },
  {
   "cell_type": "markdown",
   "id": "designed-postage",
   "metadata": {},
   "source": [
    "## Building the model"
   ]
  },
  {
   "cell_type": "code",
   "execution_count": 22,
   "id": "upper-adventure",
   "metadata": {},
   "outputs": [
    {
     "name": "stdout",
     "output_type": "stream",
     "text": [
      "Epoch 1/100\n",
      "3579/3579 - 2s - loss: 0.4115 - accuracy: 0.7670 - val_loss: 0.3687 - val_accuracy: 0.7875\n",
      "Epoch 2/100\n",
      "3579/3579 - 2s - loss: 0.3686 - accuracy: 0.7972 - val_loss: 0.3901 - val_accuracy: 0.7852\n",
      "Epoch 3/100\n",
      "3579/3579 - 2s - loss: 0.3542 - accuracy: 0.7997 - val_loss: 0.3869 - val_accuracy: 0.7450\n"
     ]
    },
    {
     "data": {
      "text/plain": [
       "<tensorflow.python.keras.callbacks.History at 0x2c517e094c0>"
      ]
     },
     "execution_count": 22,
     "metadata": {},
     "output_type": "execute_result"
    }
   ],
   "source": [
    "input_size = 10\n",
    "output_size = 2\n",
    "hidden_layer_size = 50\n",
    "\n",
    "# Flatten command not needed, data already preprocessed\n",
    "\n",
    "model = tf.keras.Sequential([\n",
    "                            tf.keras.layers.Dense(hidden_layer_size, activation = 'relu'),\n",
    "                            tf.keras.layers.Dense(hidden_layer_size, activation = 'relu'),\n",
    "                            tf.keras.layers.Dense(output_size, activation = 'softmax')\n",
    "                            ]) \n",
    "# Re-used MNIST code, softmax is best for classifier outputs with probabilites, otherwise signmoid\n",
    "\n",
    "model.compile(optimizer='adam', loss='sparse_categorical_crossentropy', metrics=['accuracy'])\n",
    "\n",
    "batch_size = 100\n",
    "\n",
    "max_epochs = 100\n",
    "\n",
    "early_stopping = tf.keras.callbacks.EarlyStopping(patience = 2) # early stopping to prevent overfitting but with tolerance\n",
    "\n",
    "model.fit(train_inputs, \n",
    "          train_targets, \n",
    "          batch_size = batch_size, \n",
    "          epochs = max_epochs,\n",
    "          callbacks = [early_stopping],\n",
    "          validation_data=(validation_inputs, validation_targets),\n",
    "          verbose = 2)"
   ]
  },
  {
   "cell_type": "markdown",
   "id": "british-annual",
   "metadata": {},
   "source": [
    "Overfitting is present due to oscillating validation accuracy. Early stopping is necessary but with tolerance"
   ]
  },
  {
   "cell_type": "markdown",
   "id": "heavy-pleasure",
   "metadata": {},
   "source": [
    "## Testing the model"
   ]
  },
  {
   "cell_type": "code",
   "execution_count": 23,
   "id": "bound-klein",
   "metadata": {},
   "outputs": [
    {
     "name": "stdout",
     "output_type": "stream",
     "text": [
      "14/14 [==============================] - 0s 786us/step - loss: 0.3516 - accuracy: 0.7857\n"
     ]
    }
   ],
   "source": [
    "test_loss, test_accuracy = model.evaluate(test_inputs, test_targets)"
   ]
  },
  {
   "cell_type": "markdown",
   "id": "frequent-listening",
   "metadata": {},
   "source": [
    " Note: The accuracy of the validation, train and test data for the instructor was around 90 % but I got 80 %. Why?\n",
    " \n",
    " Post-processing:\n",
    " 1. Doubling the hidden layer size has an insignificant effect\n",
    " 2. The tanh function on one hidden layer is also insignificant\n",
    " 3. Using a sigmoid for one hidden layer decrease the accuracy by 5%\n",
    " 4. Doubling the number of hidden layers is also inconsequential\n",
    " 5. Using a smaller batch size raised the accuracy by 3%\n",
    " 6. Using the SGD decreases the accuracy by 4%"
   ]
  }
 ],
 "metadata": {
  "kernelspec": {
   "display_name": "Python 3",
   "language": "python",
   "name": "python3"
  },
  "language_info": {
   "codemirror_mode": {
    "name": "ipython",
    "version": 3
   },
   "file_extension": ".py",
   "mimetype": "text/x-python",
   "name": "python",
   "nbconvert_exporter": "python",
   "pygments_lexer": "ipython3",
   "version": "3.8.8"
  }
 },
 "nbformat": 4,
 "nbformat_minor": 5
}
