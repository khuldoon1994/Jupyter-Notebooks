{
 "cells": [
  {
   "cell_type": "markdown",
   "id": "sticky-international",
   "metadata": {},
   "source": [
    "## Preprocessing the data"
   ]
  },
  {
   "cell_type": "code",
   "execution_count": 1,
   "id": "statutory-adoption",
   "metadata": {},
   "outputs": [],
   "source": [
    "import numpy as np\n",
    "from sklearn import preprocessing #sklearn for standardization of inputs\n",
    "\n",
    "#Standardization improves the quality of the algorithm"
   ]
  },
  {
   "cell_type": "code",
   "execution_count": 2,
   "id": "fallen-remark",
   "metadata": {},
   "outputs": [],
   "source": [
    "raw_csv_data = np.loadtxt('Audiobooks_data.csv', delimiter = ',')"
   ]
  },
  {
   "cell_type": "code",
   "execution_count": 4,
   "id": "pretty-tractor",
   "metadata": {},
   "outputs": [],
   "source": [
    "unscaled_inputs_all = raw_csv_data[:,1:-1] # first column is not needed, last column is targets\n",
    "targets_all = raw_csv_data[:,-1]"
   ]
  },
  {
   "cell_type": "markdown",
   "id": "fresh-respondent",
   "metadata": {},
   "source": [
    "## Balance the data"
   ]
  },
  {
   "cell_type": "code",
   "execution_count": 5,
   "id": "indie-publicity",
   "metadata": {},
   "outputs": [],
   "source": [
    "num_one_targets = int(np.sum(targets_all)) # Only those targets will contribute to the sum which are 1s.\n",
    "\n",
    "zero_targets_counter = 0 # To count the number of zeros over the targets\n",
    "indices_to_remove = [] # To remove the unwanted zeros for balancing\n",
    "\n",
    "for i in range(targets_all.shape[0]):\n",
    "    if targets_all[i] == 0: # check for zero\n",
    "        zero_targets_counter += 1 # increment the counter\n",
    "        if zero_targets_counter > num_one_targets: # note the index once the counter is greater than the number of 1s\n",
    "            indices_to_remove.append(i)\n",
    "            \n",
    "unscaled_inputs_equal_priors = np.delete(unscaled_inputs_all, indices_to_remove, axis = 0) # removing the indices in inputs\n",
    "\n",
    "targets_equal_priors = np.delete(targets_all, indices_to_remove, axis = 0) # removing indices in targets"
   ]
  },
  {
   "cell_type": "markdown",
   "id": "protected-knight",
   "metadata": {},
   "source": [
    "## Standardize the inputs"
   ]
  },
  {
   "cell_type": "code",
   "execution_count": 8,
   "id": "respective-inspector",
   "metadata": {},
   "outputs": [
    {
     "data": {
      "text/plain": [
       "array([[ 0.21053387, -0.18888517,  1.97823887, ...,  4.80955413,\n",
       "        11.83828419,  0.09415043],\n",
       "       [ 1.27894497,  0.41646744, -0.39082475, ..., -0.41569922,\n",
       "        -0.20183481, -0.80255852],\n",
       "       [ 1.27894497,  0.41646744, -0.39082475, ..., -0.41569922,\n",
       "        -0.20183481,  2.979214  ],\n",
       "       ...,\n",
       "       [ 1.27894497,  0.41646744, -0.39082475, ..., -0.41569922,\n",
       "        -0.20183481, -0.7440775 ],\n",
       "       [ 0.31737498,  1.7482432 ,  0.04679395, ..., -0.41569922,\n",
       "        -0.20183481, -0.80255852],\n",
       "       [ 0.31737498,  1.7482432 , -0.39082475, ..., -0.41569922,\n",
       "        -0.20183481, -0.80255852]])"
      ]
     },
     "execution_count": 8,
     "metadata": {},
     "output_type": "execute_result"
    }
   ],
   "source": [
    "scaled_inputs = preprocessing.scale(unscaled_inputs_equal_priors) # Standardizing the inputs using sklearn\n",
    "scaled_inputs"
   ]
  },
  {
   "cell_type": "markdown",
   "id": "asian-prescription",
   "metadata": {},
   "source": [
    "## Shuffle the data"
   ]
  },
  {
   "cell_type": "code",
   "execution_count": 10,
   "id": "honey-amount",
   "metadata": {},
   "outputs": [],
   "source": [
    "shuffled_indices = np.arange(scaled_inputs.shape[0]) # Take the indices of the inputs in the first column and store them\n",
    "np.random.shuffle(shuffled_indices) # Shuffle these indices\n",
    "\n",
    "shuffled_inputs = scaled_inputs[shuffled_indices] # Picking and storing the inputs corresponding to shuffled indices\n",
    "shuffled_targets = targets_equal_priors[shuffled_indices] # Picking and storing targets corresponding to shuffled indices"
   ]
  },
  {
   "cell_type": "markdown",
   "id": "instrumental-favor",
   "metadata": {},
   "source": [
    "## Split into train, validation and test data"
   ]
  },
  {
   "cell_type": "code",
   "execution_count": 14,
   "id": "single-consumer",
   "metadata": {},
   "outputs": [],
   "source": [
    "samples_count = shuffled_inputs.shape[0] # number of samples\n",
    "\n",
    "# Use of 80-10-10 split here\n",
    "\n",
    "train_samples_count = int(0.8*samples_count)\n",
    "validation_samples_count = int(0.1*samples_count)\n",
    "test_samples_count = samples_count - train_samples_count - validation_samples_count\n",
    "\n",
    "train_inputs = shuffled_inputs[:train_samples_count] # Extracting training data from inputs\n",
    "train_targets = shuffled_targets[:train_samples_count] # Likewise for targets\n",
    "\n",
    "validation_inputs = shuffled_inputs[train_samples_count:validation_samples_count+train_samples_count] # from train to train+val\n",
    "validation_targets = shuffled_targets[train_samples_count:validation_samples_count+train_samples_count]\n",
    "\n",
    "test_inputs = shuffled_inputs[train_samples_count+validation_samples_count:] # Everything left is the test\n",
    "test_targets = shuffled_targets[train_samples_count+validation_samples_count:]\n",
    "\n"
   ]
  },
  {
   "cell_type": "markdown",
   "id": "unique-creativity",
   "metadata": {},
   "source": [
    "## Save the three datasets in npz arrays"
   ]
  },
  {
   "cell_type": "code",
   "execution_count": 15,
   "id": "involved-litigation",
   "metadata": {},
   "outputs": [],
   "source": [
    "np.savez('Audiobooks_data_train', inputs = train_inputs, targets = train_targets)\n",
    "np.savez('Audiobooks_data_validation', inputs = validation_inputs, targets = validation_targets)\n",
    "np.savez('Audiobooks_data_test', inputs = test_inputs, targets = test_targets)"
   ]
  },
  {
   "cell_type": "code",
   "execution_count": null,
   "id": "preliminary-bikini",
   "metadata": {},
   "outputs": [],
   "source": []
  }
 ],
 "metadata": {
  "kernelspec": {
   "display_name": "Python 3",
   "language": "python",
   "name": "python3"
  },
  "language_info": {
   "codemirror_mode": {
    "name": "ipython",
    "version": 3
   },
   "file_extension": ".py",
   "mimetype": "text/x-python",
   "name": "python",
   "nbconvert_exporter": "python",
   "pygments_lexer": "ipython3",
   "version": "3.8.8"
  }
 },
 "nbformat": 4,
 "nbformat_minor": 5
}
